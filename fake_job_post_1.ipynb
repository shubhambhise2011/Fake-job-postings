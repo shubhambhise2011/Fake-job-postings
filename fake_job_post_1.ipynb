{
  "nbformat": 4,
  "nbformat_minor": 0,
  "metadata": {
    "kernelspec": {
      "display_name": "Python 3",
      "language": "python",
      "name": "python3"
    },
    "language_info": {
      "codemirror_mode": {
        "name": "ipython",
        "version": 3
      },
      "file_extension": ".py",
      "mimetype": "text/x-python",
      "name": "python",
      "nbconvert_exporter": "python",
      "pygments_lexer": "ipython3",
      "version": "3.7.6"
    },
    "colab": {
      "name": "fake_job_post_1.ipynb",
      "provenance": [],
      "collapsed_sections": []
    }
  },
  "cells": [
    {
      "cell_type": "markdown",
      "metadata": {
        "id": "Lcqe3WnGCoPu",
        "colab_type": "text"
      },
      "source": [
        "**Data cleaning and exploratory data analysis.**"
      ]
    },
    {
      "cell_type": "code",
      "metadata": {
        "id": "fqbOy7J5gsST",
        "colab_type": "code",
        "outputId": "0bf88d76-af0a-43c6-da08-6b729aa482b6",
        "colab": {
          "base_uri": "https://localhost:8080/",
          "height": 71
        }
      },
      "source": [
        "import pandas as pd\n",
        "import seaborn as sns\n",
        "import matplotlib.pyplot as plt\n",
        "from matplotlib import style\n",
        "style.use(\"ggplot\")\n",
        "%matplotlib inline\n",
        "from collections import Counter\n",
        "import numpy as np\n",
        "pd.set_option('display.max_columns', None)"
      ],
      "execution_count": 0,
      "outputs": [
        {
          "output_type": "stream",
          "text": [
            "/usr/local/lib/python3.6/dist-packages/statsmodels/tools/_testing.py:19: FutureWarning: pandas.util.testing is deprecated. Use the functions in the public API at pandas.testing instead.\n",
            "  import pandas.util.testing as tm\n"
          ],
          "name": "stderr"
        }
      ]
    },
    {
      "cell_type": "code",
      "metadata": {
        "id": "_XyEUU2zOuWQ",
        "colab_type": "code",
        "outputId": "4d75fe0d-78c7-42ca-e6d7-2b819188f1fd",
        "colab": {
          "base_uri": "https://localhost:8080/",
          "height": 122
        }
      },
      "source": [
        "from google.colab import drive\n",
        "drive.mount('/content/drive')"
      ],
      "execution_count": 0,
      "outputs": [
        {
          "output_type": "stream",
          "text": [
            "Go to this URL in a browser: https://accounts.google.com/o/oauth2/auth?client_id=947318989803-6bn6qk8qdgf4n4g3pfee6491hc0brc4i.apps.googleusercontent.com&redirect_uri=urn%3aietf%3awg%3aoauth%3a2.0%3aoob&response_type=code&scope=email%20https%3a%2f%2fwww.googleapis.com%2fauth%2fdocs.test%20https%3a%2f%2fwww.googleapis.com%2fauth%2fdrive%20https%3a%2f%2fwww.googleapis.com%2fauth%2fdrive.photos.readonly%20https%3a%2f%2fwww.googleapis.com%2fauth%2fpeopleapi.readonly\n",
            "\n",
            "Enter your authorization code:\n",
            "··········\n",
            "Mounted at /content/drive\n"
          ],
          "name": "stdout"
        }
      ]
    },
    {
      "cell_type": "code",
      "metadata": {
        "id": "AAIc10HqgsSd",
        "colab_type": "code",
        "colab": {}
      },
      "source": [
        "df = pd.read_csv('/content/drive/My Drive/Colab Notebooks/fake_job_postings.csv')"
      ],
      "execution_count": 0,
      "outputs": []
    },
    {
      "cell_type": "code",
      "metadata": {
        "id": "c-T5A3CkUqtu",
        "colab_type": "code",
        "outputId": "0519fa6c-ad1b-4eac-c243-76b44d9f1e28",
        "colab": {
          "base_uri": "https://localhost:8080/",
          "height": 702
        }
      },
      "source": [
        "print(df.isna().sum())\n",
        "sns.heatmap(df.isnull())"
      ],
      "execution_count": 0,
      "outputs": [
        {
          "output_type": "stream",
          "text": [
            "job_id                     0\n",
            "title                      0\n",
            "location                 346\n",
            "department             11547\n",
            "salary_range           15012\n",
            "company_profile         3308\n",
            "description                1\n",
            "requirements            2695\n",
            "benefits                7210\n",
            "telecommuting              0\n",
            "has_company_logo           0\n",
            "has_questions              0\n",
            "employment_type         3471\n",
            "required_experience     7050\n",
            "required_education      8105\n",
            "industry                4903\n",
            "function                6455\n",
            "fraudulent                 0\n",
            "dtype: int64\n"
          ],
          "name": "stdout"
        },
        {
          "output_type": "execute_result",
          "data": {
            "text/plain": [
              "<matplotlib.axes._subplots.AxesSubplot at 0x7f993d807470>"
            ]
          },
          "metadata": {
            "tags": []
          },
          "execution_count": 5
        },
        {
          "output_type": "display_data",
          "data": {
            "image/png": "[encoded data removed]",
            "text/plain": [
              "<Figure size 432x288 with 2 Axes>"
            ]
          },
          "metadata": {
            "tags": [],
            "needs_background": "light"
          }
        }
      ]
    },
    {
      "cell_type": "markdown",
      "metadata": {
        "id": "lR2elJ_6C_GF",
        "colab_type": "text"
      },
      "source": [
        "Heatmap shows data has many null values. So it needs tobe cleaned first."
      ]
    },
    {
      "cell_type": "code",
      "metadata": {
        "id": "7tco3XobVvVA",
        "colab_type": "code",
        "outputId": "cc7c6c35-ac5b-49bc-c626-5d379f142f05",
        "colab": {
          "base_uri": "https://localhost:8080/",
          "height": 34
        }
      },
      "source": [
        "print(df.shape)"
      ],
      "execution_count": 0,
      "outputs": [
        {
          "output_type": "stream",
          "text": [
            "(17880, 18)\n"
          ],
          "name": "stdout"
        }
      ]
    },
    {
      "cell_type": "code",
      "metadata": {
        "id": "UcrfO8cbcse3",
        "colab_type": "code",
        "outputId": "81aa0f8e-4b6e-4d3c-dc50-c431e88ec517",
        "colab": {
          "base_uri": "https://localhost:8080/",
          "height": 299
        }
      },
      "source": [
        "plt.figure(1)\n",
        "sns.countplot( x= df['fraudulent'], data= df)"
      ],
      "execution_count": 0,
      "outputs": [
        {
          "output_type": "execute_result",
          "data": {
            "text/plain": [
              "<matplotlib.axes._subplots.AxesSubplot at 0x7fe95bf08da0>"
            ]
          },
          "metadata": {
            "tags": []
          },
          "execution_count": 8
        },
        {
          "output_type": "display_data",
          "data": {
            "image/png": "[encoded data removed]",
            "text/plain": [
              "<Figure size 432x288 with 1 Axes>"
            ]
          },
          "metadata": {
            "tags": [],
            "needs_background": "light"
          }
        }
      ]
    },
    {
      "cell_type": "markdown",
      "metadata": {
        "id": "MgEsFeBxDKff",
        "colab_type": "text"
      },
      "source": [
        "Also in the main data only 6 percent values are fraudelent. "
      ]
    },
    {
      "cell_type": "code",
      "metadata": {
        "id": "Tw7dOcwkgsTO",
        "colab_type": "code",
        "outputId": "0df83c15-9632-4dfc-a599-e634dd8fea06",
        "colab": {
          "base_uri": "https://localhost:8080/",
          "height": 272
        }
      },
      "source": [
        "df2 = df.copy()\n",
        "df2.drop(['salary_range', 'job_id', 'department', 'benefits'], axis = 1, inplace = True)\n",
        "df2 = df2.sort_values('title').reset_index(drop = True)\n",
        "df2.isna().sum()"
      ],
      "execution_count": 0,
      "outputs": [
        {
          "output_type": "execute_result",
          "data": {
            "text/plain": [
              "title                     0\n",
              "location                346\n",
              "company_profile        3308\n",
              "description               1\n",
              "requirements           2695\n",
              "telecommuting             0\n",
              "has_company_logo          0\n",
              "has_questions             0\n",
              "employment_type        3471\n",
              "required_experience    7050\n",
              "required_education     8105\n",
              "industry               4903\n",
              "function               6455\n",
              "fraudulent                0\n",
              "dtype: int64"
            ]
          },
          "metadata": {
            "tags": []
          },
          "execution_count": 6
        }
      ]
    },
    {
      "cell_type": "markdown",
      "metadata": {
        "id": "bFABxaxiDxFb",
        "colab_type": "text"
      },
      "source": [
        "Some features are dropped\n",
        "\n",
        "---\n",
        "salary range = It has many null values. So it will make much difference if fill it by bfill, ffill or by average.\n",
        "\n",
        "---\n",
        "Job id = This is not useful in prediction.\n",
        "\n",
        "---\n",
        "department = So many null spaces.\n",
        "\n",
        "---\n",
        "Benefits = It can be covered in other features. \n",
        "\n",
        "---\n",
        "\n",
        "\n",
        "\n",
        "\n",
        "\n",
        "\n"
      ]
    },
    {
      "cell_type": "code",
      "metadata": {
        "id": "HsKF7c_tgsTo",
        "colab_type": "code",
        "colab": {}
      },
      "source": [
        "df2['employment_type'] = df2['employment_type'].bfill(axis=0)\n",
        "df2['required_experience'] = df2['required_experience'].bfill(axis=0)\n",
        "df2['required_education'] = df2['required_education'].bfill(axis = 0)\n",
        "df2['industry'] = df2['industry'].bfill(axis=0)\n",
        "df2['function'] = df2['function'].bfill(axis=0)"
      ],
      "execution_count": 0,
      "outputs": []
    },
    {
      "cell_type": "markdown",
      "metadata": {
        "id": "PkCGQlO5Fg5J",
        "colab_type": "text"
      },
      "source": [
        "Features like these can be back filled because many of them have less no of categories. And even if there occurs a mismatch due to bfill it will be in less proportion and will not affect the prediction."
      ]
    },
    {
      "cell_type": "code",
      "metadata": {
        "id": "an4KJ1aJgsTw",
        "colab_type": "code",
        "colab": {}
      },
      "source": [
        "df3 = df2.copy()"
      ],
      "execution_count": 0,
      "outputs": []
    },
    {
      "cell_type": "code",
      "metadata": {
        "id": "cZ8OlMQCgsVQ",
        "colab_type": "code",
        "colab": {}
      },
      "source": [
        "df3 = df3[df3['description'].notna()]"
      ],
      "execution_count": 0,
      "outputs": []
    },
    {
      "cell_type": "code",
      "metadata": {
        "id": "Y7v6tS4pWOjm",
        "colab_type": "code",
        "outputId": "365a42fa-b632-45bb-f26a-f274afd65820",
        "colab": {
          "base_uri": "https://localhost:8080/",
          "height": 289
        }
      },
      "source": [
        "print(df3.isna().sum())\n",
        "print(df3.shape)"
      ],
      "execution_count": 0,
      "outputs": [
        {
          "output_type": "stream",
          "text": [
            "title                     0\n",
            "location                346\n",
            "company_profile        3307\n",
            "description               0\n",
            "requirements           2694\n",
            "telecommuting             0\n",
            "has_company_logo          0\n",
            "has_questions             0\n",
            "employment_type           2\n",
            "required_experience       2\n",
            "required_education        2\n",
            "industry                  2\n",
            "function                  2\n",
            "fraudulent                0\n",
            "dtype: int64\n",
            "(17879, 14)\n"
          ],
          "name": "stdout"
        }
      ]
    },
    {
      "cell_type": "code",
      "metadata": {
        "id": "NjEPIO1vgsVa",
        "colab_type": "code",
        "outputId": "0841c5b6-4585-448e-af9f-de14933aaaf7",
        "colab": {
          "base_uri": "https://localhost:8080/",
          "height": 272
        }
      },
      "source": [
        "df3 = df3.dropna(axis = 0, how = 'any')\n",
        "df3.isna().sum()"
      ],
      "execution_count": 0,
      "outputs": [
        {
          "output_type": "execute_result",
          "data": {
            "text/plain": [
              "title                  0\n",
              "location               0\n",
              "company_profile        0\n",
              "description            0\n",
              "requirements           0\n",
              "telecommuting          0\n",
              "has_company_logo       0\n",
              "has_questions          0\n",
              "employment_type        0\n",
              "required_experience    0\n",
              "required_education     0\n",
              "industry               0\n",
              "function               0\n",
              "fraudulent             0\n",
              "dtype: int64"
            ]
          },
          "metadata": {
            "tags": []
          },
          "execution_count": 11
        }
      ]
    },
    {
      "cell_type": "markdown",
      "metadata": {
        "id": "Os8NsHRhGNgE",
        "colab_type": "text"
      },
      "source": [
        "And with remaining features those we couldnt fill, their respective rows are simply dropped from data."
      ]
    },
    {
      "cell_type": "code",
      "metadata": {
        "id": "EKQTN_k0gsVf",
        "colab_type": "code",
        "outputId": "0564fead-2261-45c5-fb65-092406dcc0c2",
        "colab": {
          "base_uri": "https://localhost:8080/",
          "height": 34
        }
      },
      "source": [
        "df3.shape"
      ],
      "execution_count": 0,
      "outputs": [
        {
          "output_type": "execute_result",
          "data": {
            "text/plain": [
              "(12501, 14)"
            ]
          },
          "metadata": {
            "tags": []
          },
          "execution_count": 12
        }
      ]
    },
    {
      "cell_type": "code",
      "metadata": {
        "id": "qXbcwjQlgsVq",
        "colab_type": "code",
        "colab": {}
      },
      "source": [
        "df3 = df3.drop_duplicates(keep = 'first')"
      ],
      "execution_count": 0,
      "outputs": []
    },
    {
      "cell_type": "code",
      "metadata": {
        "id": "A_9_LxWtgsVx",
        "colab_type": "code",
        "colab": {}
      },
      "source": [
        "df4 = df3.copy()"
      ],
      "execution_count": 0,
      "outputs": []
    },
    {
      "cell_type": "code",
      "metadata": {
        "id": "uQeihE63gsV2",
        "colab_type": "code",
        "outputId": "b046639c-4f14-418e-a2a7-a7a75286fc59",
        "colab": {
          "base_uri": "https://localhost:8080/",
          "height": 34
        }
      },
      "source": [
        "df4.shape"
      ],
      "execution_count": 0,
      "outputs": [
        {
          "output_type": "execute_result",
          "data": {
            "text/plain": [
              "(12264, 14)"
            ]
          },
          "metadata": {
            "tags": []
          },
          "execution_count": 15
        }
      ]
    },
    {
      "cell_type": "code",
      "metadata": {
        "id": "PC8V-HrfgsV4",
        "colab_type": "code",
        "colab": {}
      },
      "source": [
        "df4['description'] = df4['description'] + ' ' + df4['requirements'] + ' ' + df4['company_profile']\n",
        "df4.drop(['company_profile', 'requirements'], axis = 1, inplace = True)"
      ],
      "execution_count": 0,
      "outputs": []
    },
    {
      "cell_type": "markdown",
      "metadata": {
        "id": "Dea7TmtEHjpk",
        "colab_type": "text"
      },
      "source": [
        "After this, for the ease of NLP, features which have sentences and paragraphs are concatenated to a one single feature. "
      ]
    },
    {
      "cell_type": "code",
      "metadata": {
        "id": "gzsw182SgsV9",
        "colab_type": "code",
        "colab": {}
      },
      "source": [
        "df4['country_code'] = df4['location'].str.split(',', expand=True)[0]\n",
        "df4['city'] = df4['location'].str.split(',', expand = True)[2]"
      ],
      "execution_count": 0,
      "outputs": []
    },
    {
      "cell_type": "markdown",
      "metadata": {
        "id": "p9Tvli9VIA2L",
        "colab_type": "text"
      },
      "source": [
        "Country and city are separated from location."
      ]
    },
    {
      "cell_type": "code",
      "metadata": {
        "id": "S1eGFH2IgsWC",
        "colab_type": "code",
        "colab": {}
      },
      "source": [
        "df4.loc[df4['city'] == ' ', 'city'] = np.nan"
      ],
      "execution_count": 0,
      "outputs": []
    },
    {
      "cell_type": "code",
      "metadata": {
        "id": "pi_tM_xugsWG",
        "colab_type": "code",
        "outputId": "3174e219-ecc3-46fe-fba4-34bfb6bf3539",
        "colab": {
          "base_uri": "https://localhost:8080/",
          "height": 272
        }
      },
      "source": [
        "df4.isnull().sum()"
      ],
      "execution_count": 0,
      "outputs": [
        {
          "output_type": "execute_result",
          "data": {
            "text/plain": [
              "title                    0\n",
              "location                 0\n",
              "description              0\n",
              "telecommuting            0\n",
              "has_company_logo         0\n",
              "has_questions            0\n",
              "employment_type          0\n",
              "required_experience      0\n",
              "required_education       0\n",
              "industry                 0\n",
              "function                 0\n",
              "fraudulent               0\n",
              "country_code             0\n",
              "city                   992\n",
              "dtype: int64"
            ]
          },
          "metadata": {
            "tags": []
          },
          "execution_count": 19
        }
      ]
    },
    {
      "cell_type": "code",
      "metadata": {
        "id": "WpiZNTH_gsWJ",
        "colab_type": "code",
        "colab": {}
      },
      "source": [
        "df4.dropna(inplace = True)"
      ],
      "execution_count": 0,
      "outputs": []
    },
    {
      "cell_type": "code",
      "metadata": {
        "id": "XKMI7vlMCV5c",
        "colab_type": "code",
        "outputId": "00190fe8-a27c-4ec1-b324-a6ec32db4ed1",
        "colab": {
          "base_uri": "https://localhost:8080/",
          "height": 207
        }
      },
      "source": [
        "pip install pycountry"
      ],
      "execution_count": 0,
      "outputs": [
        {
          "output_type": "stream",
          "text": [
            "Collecting pycountry\n",
            "\u001b[?25l  Downloading https://files.pythonhosted.org/packages/16/b6/154fe93072051d8ce7bf197690957b6d0ac9a21d51c9a1d05bd7c6fdb16f/pycountry-19.8.18.tar.gz (10.0MB)\n",
            "\u001b[K     |████████████████████████████████| 10.0MB 2.6MB/s \n",
            "\u001b[?25hBuilding wheels for collected packages: pycountry\n",
            "  Building wheel for pycountry (setup.py) ... \u001b[?25l\u001b[?25hdone\n",
            "  Created wheel for pycountry: filename=pycountry-19.8.18-py2.py3-none-any.whl size=10627361 sha256=7acbb87b7cc0283f1afcbff9334ed960b67f4206ea9452ee73896b64901ed412\n",
            "  Stored in directory: /root/.cache/pip/wheels/a2/98/bf/f0fa1c6bf8cf2cbdb750d583f84be51c2cd8272460b8b36bd3\n",
            "Successfully built pycountry\n",
            "Installing collected packages: pycountry\n",
            "Successfully installed pycountry-19.8.18\n"
          ],
          "name": "stdout"
        }
      ]
    },
    {
      "cell_type": "code",
      "metadata": {
        "id": "ripqk6I6gsWN",
        "colab_type": "code",
        "colab": {}
      },
      "source": [
        "import pycountry\n",
        "list_alpha_2 = [i.alpha_2 for i in list(pycountry.countries)]\n",
        "def country(df):\n",
        "    if df['country_code'] in list_alpha_2:\n",
        "        return pycountry.countries.get(alpha_2 = df['country_code']).name\n",
        "df4['country_name'] = df4.apply(country, axis = 1)"
      ],
      "execution_count": 0,
      "outputs": []
    },
    {
      "cell_type": "code",
      "metadata": {
        "id": "RkIGkkQggsWQ",
        "colab_type": "code",
        "colab": {}
      },
      "source": [
        "df4.drop(['location', 'country_code'], axis = 1, inplace = True)"
      ],
      "execution_count": 0,
      "outputs": []
    },
    {
      "cell_type": "code",
      "metadata": {
        "id": "o4VgFVGwgsWU",
        "colab_type": "code",
        "outputId": "2f23c682-f298-4d5f-866f-6b033082141c",
        "colab": {
          "base_uri": "https://localhost:8080/",
          "height": 462
        }
      },
      "source": [
        "df4.head()"
      ],
      "execution_count": 0,
      "outputs": [
        {
          "output_type": "execute_result",
          "data": {
            "text/html": [
              "<div>\n",
              "<style scoped>\n",
              "    .dataframe tbody tr th:only-of-type {\n",
              "        vertical-align: middle;\n",
              "    }\n",
              "\n",
              "    .dataframe tbody tr th {\n",
              "        vertical-align: top;\n",
              "    }\n",
              "\n",
              "    .dataframe thead th {\n",
              "        text-align: right;\n",
              "    }\n",
              "</style>\n",
              "<table border=\"1\" class=\"dataframe\">\n",
              "  <thead>\n",
              "    <tr style=\"text-align: right;\">\n",
              "      <th></th>\n",
              "      <th>title</th>\n",
              "      <th>description</th>\n",
              "      <th>telecommuting</th>\n",
              "      <th>has_company_logo</th>\n",
              "      <th>has_questions</th>\n",
              "      <th>employment_type</th>\n",
              "      <th>required_experience</th>\n",
              "      <th>required_education</th>\n",
              "      <th>industry</th>\n",
              "      <th>function</th>\n",
              "      <th>fraudulent</th>\n",
              "      <th>city</th>\n",
              "      <th>country_name</th>\n",
              "    </tr>\n",
              "  </thead>\n",
              "  <tbody>\n",
              "    <tr>\n",
              "      <th>2</th>\n",
              "      <td>Piping Material Engineer</td>\n",
              "      <td>Corporate overviewAker Solutions is a global p...</td>\n",
              "      <td>0</td>\n",
              "      <td>1</td>\n",
              "      <td>0</td>\n",
              "      <td>Full-time</td>\n",
              "      <td>Mid-Senior level</td>\n",
              "      <td>Master's Degree</td>\n",
              "      <td>Oil &amp; Energy</td>\n",
              "      <td>Engineering</td>\n",
              "      <td>1</td>\n",
              "      <td>Houston</td>\n",
              "      <td>United States</td>\n",
              "    </tr>\n",
              "    <tr>\n",
              "      <th>3</th>\n",
              "      <td>Discipline Manager Civil, Structural, Marine...</td>\n",
              "      <td>Corporate overviewAker Solutions is a global p...</td>\n",
              "      <td>0</td>\n",
              "      <td>1</td>\n",
              "      <td>0</td>\n",
              "      <td>Full-time</td>\n",
              "      <td>Entry level</td>\n",
              "      <td>Professional</td>\n",
              "      <td>Oil &amp; Energy</td>\n",
              "      <td>Engineering</td>\n",
              "      <td>1</td>\n",
              "      <td>Houston</td>\n",
              "      <td>United States</td>\n",
              "    </tr>\n",
              "    <tr>\n",
              "      <th>4</th>\n",
              "      <td>FEA Senior engineer</td>\n",
              "      <td>Corporate overviewAker Solutions is a global p...</td>\n",
              "      <td>0</td>\n",
              "      <td>1</td>\n",
              "      <td>0</td>\n",
              "      <td>Full-time</td>\n",
              "      <td>Entry level</td>\n",
              "      <td>Master's Degree</td>\n",
              "      <td>Oil &amp; Energy</td>\n",
              "      <td>Engineering</td>\n",
              "      <td>1</td>\n",
              "      <td>Houston</td>\n",
              "      <td>United States</td>\n",
              "    </tr>\n",
              "    <tr>\n",
              "      <th>9</th>\n",
              "      <td>AUTOCAD OPERATOR</td>\n",
              "      <td>Responsibilities:Using a project database syst...</td>\n",
              "      <td>0</td>\n",
              "      <td>1</td>\n",
              "      <td>0</td>\n",
              "      <td>Full-time</td>\n",
              "      <td>Mid-Senior level</td>\n",
              "      <td>Bachelor's Degree</td>\n",
              "      <td>Staffing and Recruiting</td>\n",
              "      <td>Engineering</td>\n",
              "      <td>0</td>\n",
              "      <td>Cebu</td>\n",
              "      <td>Philippines</td>\n",
              "    </tr>\n",
              "    <tr>\n",
              "      <th>13</th>\n",
              "      <td>Accounting Clerk</td>\n",
              "      <td>Job DescriptionVerify, obtain approvals and pa...</td>\n",
              "      <td>0</td>\n",
              "      <td>1</td>\n",
              "      <td>1</td>\n",
              "      <td>Full-time</td>\n",
              "      <td>Associate</td>\n",
              "      <td>High School or equivalent</td>\n",
              "      <td>Accounting</td>\n",
              "      <td>Customer Service</td>\n",
              "      <td>1</td>\n",
              "      <td>AUSTIN</td>\n",
              "      <td>United States</td>\n",
              "    </tr>\n",
              "  </tbody>\n",
              "</table>\n",
              "</div>"
            ],
            "text/plain": [
              "                                                title  \\\n",
              "2                            Piping Material Engineer   \n",
              "3     Discipline Manager Civil, Structural, Marine...   \n",
              "4                                 FEA Senior engineer   \n",
              "9                                    AUTOCAD OPERATOR   \n",
              "13                                  Accounting Clerk    \n",
              "\n",
              "                                          description  telecommuting  \\\n",
              "2   Corporate overviewAker Solutions is a global p...              0   \n",
              "3   Corporate overviewAker Solutions is a global p...              0   \n",
              "4   Corporate overviewAker Solutions is a global p...              0   \n",
              "9   Responsibilities:Using a project database syst...              0   \n",
              "13  Job DescriptionVerify, obtain approvals and pa...              0   \n",
              "\n",
              "    has_company_logo  has_questions employment_type required_experience  \\\n",
              "2                  1              0       Full-time    Mid-Senior level   \n",
              "3                  1              0       Full-time         Entry level   \n",
              "4                  1              0       Full-time         Entry level   \n",
              "9                  1              0       Full-time    Mid-Senior level   \n",
              "13                 1              1       Full-time           Associate   \n",
              "\n",
              "           required_education                 industry          function  \\\n",
              "2             Master's Degree             Oil & Energy       Engineering   \n",
              "3                Professional             Oil & Energy       Engineering   \n",
              "4             Master's Degree             Oil & Energy       Engineering   \n",
              "9           Bachelor's Degree  Staffing and Recruiting       Engineering   \n",
              "13  High School or equivalent               Accounting  Customer Service   \n",
              "\n",
              "    fraudulent      city   country_name  \n",
              "2            1   Houston  United States  \n",
              "3            1   Houston  United States  \n",
              "4            1   Houston  United States  \n",
              "9            0      Cebu    Philippines  \n",
              "13           1    AUSTIN  United States  "
            ]
          },
          "metadata": {
            "tags": []
          },
          "execution_count": 27
        }
      ]
    },
    {
      "cell_type": "code",
      "metadata": {
        "id": "ajd55aQpgsWX",
        "colab_type": "code",
        "outputId": "0148d872-5ed1-47e6-d0ee-108a464b511e",
        "colab": {
          "base_uri": "https://localhost:8080/",
          "height": 34
        }
      },
      "source": [
        "df4.shape"
      ],
      "execution_count": 0,
      "outputs": [
        {
          "output_type": "execute_result",
          "data": {
            "text/plain": [
              "(11272, 13)"
            ]
          },
          "metadata": {
            "tags": []
          },
          "execution_count": 24
        }
      ]
    },
    {
      "cell_type": "code",
      "metadata": {
        "id": "qF3jf2VkgsWk",
        "colab_type": "code",
        "colab": {}
      },
      "source": [
        "df_clean = df4.copy()"
      ],
      "execution_count": 0,
      "outputs": []
    },
    {
      "cell_type": "code",
      "metadata": {
        "id": "xiSXI38igsWm",
        "colab_type": "code",
        "colab": {}
      },
      "source": [
        "df_clean.head()\n",
        "df_clean.to_csv('Clean_data1.csv')"
      ],
      "execution_count": 0,
      "outputs": []
    },
    {
      "cell_type": "code",
      "metadata": {
        "id": "ADpNN05AgsWq",
        "colab_type": "code",
        "outputId": "e2dcd7ba-9e2d-451d-93e0-3fb007ad580f",
        "colab": {
          "base_uri": "https://localhost:8080/",
          "height": 1000
        }
      },
      "source": [
        "plt.figure(figsize = (7, 5))\n",
        "sns.countplot( x= 'employment_type' ,hue = 'fraudulent', data= df_clean, order = df_clean['employment_type'].value_counts().index)\n",
        "plt.figure(figsize = (12, 5))\n",
        "sns.countplot( x= 'required_experience' ,hue = 'fraudulent', data= df_clean, order = df_clean['required_experience'].value_counts().index)\n",
        "plt.figure(figsize = (12, 5))\n",
        "ax = sns.countplot( x= 'required_education' ,hue = 'fraudulent', data= df_clean, order = df_clean['required_education'].value_counts().index )\n",
        "ax.set_xticklabels(ax.get_xticklabels(), rotation=40, ha=\"right\")\n",
        "plt.tight_layout()\n",
        "plt.figure(figsize = (12, 5))\n",
        "axa = sns.countplot( x= 'function' ,hue = 'fraudulent', data= df_clean, order = df_clean['function'].value_counts().index )\n",
        "axa.set_xticklabels(axa.get_xticklabels(), rotation=40, ha=\"right\")\n",
        "plt.tight_layout()\n"
      ],
      "execution_count": 0,
      "outputs": [
        {
          "output_type": "display_data",
          "data": {
            "image/png": "[encoded data removed]",
            "text/plain": [
              "<Figure size 504x360 with 1 Axes>"
            ]
          },
          "metadata": {
            "tags": [],
            "needs_background": "light"
          }
        },
        {
          "output_type": "display_data",
          "data": {
            "image/png": "[encoded data removed]",
            "text/plain": [
              "<Figure size 864x360 with 1 Axes>"
            ]
          },
          "metadata": {
            "tags": [],
            "needs_background": "light"
          }
        },
        {
          "output_type": "display_data",
          "data": {
            "image/png": "[encoded data removed]",
            "text/plain": [
              "<Figure size 864x360 with 1 Axes>"
            ]
          },
          "metadata": {
            "tags": [],
            "needs_background": "light"
          }
        },
        {
          "output_type": "display_data",
          "data": {
            "image/png": "[encoded data removed]",
            "text/plain": [
              "<Figure size 864x360 with 1 Axes>"
            ]
          },
          "metadata": {
            "tags": [],
            "needs_background": "light"
          }
        }
      ]
    },
    {
      "cell_type": "markdown",
      "metadata": {
        "id": "oWey2wKR9q7_",
        "colab_type": "text"
      },
      "source": [
        "**Natural Language Processing**\\\n",
        "\\\n",
        "From here starts a natutral language processing (NLP) part. It needs some libraries to download everytime when runtime is started."
      ]
    },
    {
      "cell_type": "code",
      "metadata": {
        "id": "11Jg8_pD9pdP",
        "colab_type": "code",
        "colab": {}
      },
      "source": [
        "import nltk\n",
        "nltk.download('popular')"
      ],
      "execution_count": 0,
      "outputs": []
    },
    {
      "cell_type": "code",
      "metadata": {
        "id": "fmXOQ-HM_mSm",
        "colab_type": "code",
        "outputId": "e6c6fc85-8d5c-41e4-e2c2-03d0211fb78f",
        "colab": {
          "base_uri": "https://localhost:8080/",
          "height": 51
        }
      },
      "source": [
        "import spacy.cli\n",
        "spacy.cli.download(\"en_core_web_lg\")"
      ],
      "execution_count": 0,
      "outputs": [
        {
          "output_type": "stream",
          "text": [
            "\u001b[38;5;2m✔ Download and installation successful\u001b[0m\n",
            "You can now load the model via spacy.load('en_core_web_lg')\n"
          ],
          "name": "stdout"
        }
      ]
    },
    {
      "cell_type": "code",
      "metadata": {
        "id": "0VmBWNDD_SDR",
        "colab_type": "code",
        "colab": {}
      },
      "source": [
        "from nltk.corpus import stopwords\n",
        "stop_words = stopwords.words('english')\n",
        "from nltk.stem import WordNetLemmatizer\n",
        "import string\n",
        "import base64\n",
        "import re\n",
        "from collections import Counter\n",
        "import spacy\n",
        "spacy.load('en_core_web_sm')\n",
        "nlp = spacy.load('en_core_web_lg')\n",
        "punctuations = string.punctuation\n",
        "from spacy.lang.en import English\n",
        "parser = English()"
      ],
      "execution_count": 0,
      "outputs": []
    },
    {
      "cell_type": "code",
      "metadata": {
        "id": "F5IH6yOsejtn",
        "colab_type": "code",
        "outputId": "33caf5b8-c3e1-49dd-c37a-1ecbb2087938",
        "colab": {
          "base_uri": "https://localhost:8080/",
          "height": 68
        }
      },
      "source": [
        "df_clean['fraudulent'].value_counts()"
      ],
      "execution_count": 0,
      "outputs": [
        {
          "output_type": "execute_result",
          "data": {
            "text/plain": [
              "0    11023\n",
              "1      249\n",
              "Name: fraudulent, dtype: int64"
            ]
          },
          "metadata": {
            "tags": []
          },
          "execution_count": 34
        }
      ]
    },
    {
      "cell_type": "code",
      "metadata": {
        "id": "5QoJ5g67Avhv",
        "colab_type": "code",
        "colab": {}
      },
      "source": [
        "def cleanup(docs, logging = False):\n",
        "    texts = []\n",
        "    counter = 1\n",
        "    for doc in docs:\n",
        "        if counter % 100 == 0 and logging:\n",
        "            print (\"Processed %d out of %d documents.\"%(counter, len(docs)))\n",
        "        counter +=1\n",
        "        doc = nlp(doc, disable = ['parser', 'ner'])\n",
        "        tokens = [tok.lemma_.lower().strip() for tok in doc if tok.lemma_ != '-PRON-']\n",
        "        tokens = [tok for tok in tokens if tok not in stop_words and tok not in punctuations]\n",
        "        tokens = ' '.join(tokens)\n",
        "        texts.append(tokens)\n",
        "    return pd.Series(texts)"
      ],
      "execution_count": 0,
      "outputs": []
    },
    {
      "cell_type": "markdown",
      "metadata": {
        "id": "K37BarejHLe_",
        "colab_type": "text"
      },
      "source": [
        "This function is used for cleaning the feature named description. By using this, common words (Stopwords), pronouns and syambols are removed. So only words which are affecting the prediction can be used."
      ]
    },
    {
      "cell_type": "code",
      "metadata": {
        "id": "QmRNhzag_UP5",
        "colab_type": "code",
        "colab": {}
      },
      "source": [
        "Fraud_1 = [text for text in df_clean[df_clean['fraudulent'] == 1]['description']]\n",
        "Fraud_0 = [te for te in df_clean[df_clean['fraudulent'] == 0]['description']]"
      ],
      "execution_count": 0,
      "outputs": []
    },
    {
      "cell_type": "code",
      "metadata": {
        "id": "zcaf3rfLBczl",
        "colab_type": "code",
        "colab": {}
      },
      "source": [
        "Fraud_1_clean = cleanup(Fraud_1)\n",
        "Fraud_1_clean = ' '.join(Fraud_1_clean).split()\n"
      ],
      "execution_count": 0,
      "outputs": []
    },
    {
      "cell_type": "code",
      "metadata": {
        "id": "6V4aAxFYVG_0",
        "colab_type": "code",
        "colab": {}
      },
      "source": [
        "Fraud_0_clean = cleanup(Fraud_0)\n",
        "Fraud_0_clean = ' '.join(Fraud_0_clean).split()"
      ],
      "execution_count": 0,
      "outputs": []
    },
    {
      "cell_type": "code",
      "metadata": {
        "id": "1xeYW3guGeFe",
        "colab_type": "code",
        "outputId": "e9fa7578-fc5e-4f2e-da05-35678fcc0904",
        "colab": {
          "base_uri": "https://localhost:8080/",
          "height": 51
        }
      },
      "source": [
        "print(len(Fraud_1_clean))\n",
        "print(len(Fraud_0_clean))"
      ],
      "execution_count": 0,
      "outputs": [
        {
          "output_type": "stream",
          "text": [
            "64441\n",
            "2770033\n"
          ],
          "name": "stdout"
        }
      ]
    },
    {
      "cell_type": "code",
      "metadata": {
        "id": "0d6Aw_vqGz4-",
        "colab_type": "code",
        "colab": {}
      },
      "source": [
        "Fraud_1_common_words = [word[0] for word in Counter(Fraud_1_clean).most_common(20)]\n",
        "Fraud_1_common_counts = [word[1] for word in Counter(Fraud_1_clean).most_common(20)]"
      ],
      "execution_count": 0,
      "outputs": []
    },
    {
      "cell_type": "code",
      "metadata": {
        "id": "I0qal2_7HJ1I",
        "colab_type": "code",
        "outputId": "6a5c788d-1c3a-479a-f614-b634a5d7a2c2",
        "colab": {
          "base_uri": "https://localhost:8080/",
          "height": 626
        }
      },
      "source": [
        "fig = plt.figure(figsize = (20, 10))\n",
        "pal = sns.color_palette(\"cubehelix\", 20)\n",
        "sns.barplot(x = Fraud_1_common_words, y = Fraud_1_common_counts, palette=pal)\n",
        "plt.title('Most Common Words used in Fake job postings')\n",
        "plt.ylabel(\"Frequency of words\")\n",
        "plt.xlabel(\"Words\")\n",
        "plt.show()"
      ],
      "execution_count": 0,
      "outputs": [
        {
          "output_type": "display_data",
          "data": {
            "image/png": "[encoded data removed]",
            "text/plain": [
              "<Figure size 1440x720 with 1 Axes>"
            ]
          },
          "metadata": {
            "tags": [],
            "needs_background": "light"
          }
        }
      ]
    },
    {
      "cell_type": "code",
      "metadata": {
        "id": "0c7N4zhmHXDy",
        "colab_type": "code",
        "colab": {}
      },
      "source": [
        "Fraud_0_common_words = [word[0] for word in Counter(Fraud_0_clean).most_common(20)]\n",
        "Fraud_0_common_counts = [word[1] for word in Counter(Fraud_0_clean).most_common(20)]"
      ],
      "execution_count": 0,
      "outputs": []
    },
    {
      "cell_type": "code",
      "metadata": {
        "id": "BGWm9bTNHcMN",
        "colab_type": "code",
        "outputId": "e0860326-97bb-4b21-d820-0f2cb644f49a",
        "colab": {
          "base_uri": "https://localhost:8080/",
          "height": 626
        }
      },
      "source": [
        "fig = plt.figure(figsize = (20, 10))\n",
        "pal = sns.color_palette(\"cubehelix\", 20)\n",
        "sns.barplot(x = Fraud_0_common_words, y = Fraud_0_common_counts, palette=pal)\n",
        "plt.title('Most Common Words used in Genuine job postings')\n",
        "plt.ylabel(\"Frequency of words\")\n",
        "plt.xlabel(\"Words\")\n",
        "plt.show()"
      ],
      "execution_count": 0,
      "outputs": [
        {
          "output_type": "display_data",
          "data": {
            "image/png": "[encoded data removed]",
            "text/plain": [
              "<Figure size 1440x720 with 1 Axes>"
            ]
          },
          "metadata": {
            "tags": [],
            "needs_background": "light"
          }
        }
      ]
    },
    {
      "cell_type": "markdown",
      "metadata": {
        "id": "ArAwafJPJUz_",
        "colab_type": "text"
      },
      "source": [
        "The above graphs shows the words which are mostly occured in fake vs true job post."
      ]
    }
  ]
}