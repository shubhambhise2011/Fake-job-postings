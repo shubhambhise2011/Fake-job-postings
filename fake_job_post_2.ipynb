{
  "nbformat": 4,
  "nbformat_minor": 0,
  "metadata": {
    "colab": {
      "name": "fake_job_post_2.ipynb",
      "provenance": [],
      "collapsed_sections": []
    },
    "kernelspec": {
      "name": "python3",
      "display_name": "Python 3"
    }
  },
  "cells": [
    {
      "cell_type": "markdown",
      "metadata": {
        "id": "b2lrTVw6-e6a",
        "colab_type": "text"
      },
      "source": [
        "**Prediction**\\\n",
        "\\\n",
        "This is a prediction part. \n",
        "And because of section description has sentences and paragraphs we needed to use natural language processing (NLP) toolkit. For using it, some libbraries need to download after every runtime."
      ]
    },
    {
      "cell_type": "code",
      "metadata": {
        "id": "eth96oL9xWUB",
        "colab_type": "code",
        "colab": {}
      },
      "source": [
        "import nltk\n",
        "nltk.download('popular')"
      ],
      "execution_count": 0,
      "outputs": []
    },
    {
      "cell_type": "code",
      "metadata": {
        "id": "jbFUJ833yi9z",
        "colab_type": "code",
        "outputId": "b646782f-efe9-451d-c417-acb97b655367",
        "colab": {
          "base_uri": "https://localhost:8080/",
          "height": 105
        }
      },
      "source": [
        "import pandas as pd\n",
        "import seaborn as sns\n",
        "import matplotlib.pyplot as plt\n",
        "%matplotlib inline\n",
        "import numpy as np\n",
        "pd.set_option('display.max_columns', None)\n",
        "\n",
        "from nltk.corpus import stopwords\n",
        "stop_words = stopwords.words('english')\n",
        "from nltk.stem import WordNetLemmatizer\n",
        "import string\n",
        "\n",
        "import base64\n",
        "import string\n",
        "import re\n",
        "from collections import Counter\n",
        "from nltk.corpus import stopwords\n",
        "stopwords = stopwords.words('english')\n",
        "\n",
        "from sklearn.feature_extraction.text import CountVectorizer\n",
        "from sklearn.base import TransformerMixin\n",
        "from sklearn.pipeline import Pipeline\n",
        "from sklearn.svm import LinearSVC\n",
        "from sklearn.feature_extraction.stop_words import ENGLISH_STOP_WORDS\n",
        "from sklearn.metrics import accuracy_score, roc_auc_score, classification_report, confusion_matrix\n",
        "from nltk.corpus import stopwords\n",
        "import string \n",
        "import re\n",
        "import spacy \n",
        "spacy.load('en_core_web_sm')\n",
        "from spacy.lang.en import English\n",
        "parser = English()"
      ],
      "execution_count": 2,
      "outputs": [
        {
          "output_type": "stream",
          "text": [
            "/usr/local/lib/python3.6/dist-packages/statsmodels/tools/_testing.py:19: FutureWarning: pandas.util.testing is deprecated. Use the functions in the public API at pandas.testing instead.\n",
            "  import pandas.util.testing as tm\n",
            "/usr/local/lib/python3.6/dist-packages/sklearn/utils/deprecation.py:144: FutureWarning: The sklearn.feature_extraction.stop_words module is  deprecated in version 0.22 and will be removed in version 0.24. The corresponding classes / functions should instead be imported from sklearn.feature_extraction.text. Anything that cannot be imported from sklearn.feature_extraction.text is now part of the private API.\n",
            "  warnings.warn(message, FutureWarning)\n"
          ],
          "name": "stderr"
        }
      ]
    },
    {
      "cell_type": "markdown",
      "metadata": {
        "id": "E6RKuuym_KWu",
        "colab_type": "text"
      },
      "source": [
        "The main libraries used are stopwords (from stopwords) and spacy are used for eliminating the common words."
      ]
    },
    {
      "cell_type": "code",
      "metadata": {
        "id": "CZspD_6MyIcm",
        "colab_type": "code",
        "colab": {}
      },
      "source": [
        "df = pd.read_csv('/content/drive/My Drive/Colab Notebooks/Clean_data1.csv')"
      ],
      "execution_count": 0,
      "outputs": []
    },
    {
      "cell_type": "code",
      "metadata": {
        "id": "gktPWCzpy4zk",
        "colab_type": "code",
        "outputId": "33f884f1-6dbf-45ca-c3a8-8c93f4a2b5c5",
        "colab": {
          "base_uri": "https://localhost:8080/",
          "height": 34
        }
      },
      "source": [
        "df.shape"
      ],
      "execution_count": 5,
      "outputs": [
        {
          "output_type": "execute_result",
          "data": {
            "text/plain": [
              "(11272, 14)"
            ]
          },
          "metadata": {
            "tags": []
          },
          "execution_count": 5
        }
      ]
    },
    {
      "cell_type": "code",
      "metadata": {
        "id": "RlmInJ-Gy9Q4",
        "colab_type": "code",
        "colab": {}
      },
      "source": [
        "del df['Unnamed: 0']"
      ],
      "execution_count": 0,
      "outputs": []
    },
    {
      "cell_type": "code",
      "metadata": {
        "id": "ieJzCG1qzDP8",
        "colab_type": "code",
        "outputId": "765848af-ec83-4972-e4f6-0b7384af91d4",
        "colab": {
          "base_uri": "https://localhost:8080/",
          "height": 34
        }
      },
      "source": [
        "df.shape"
      ],
      "execution_count": 7,
      "outputs": [
        {
          "output_type": "execute_result",
          "data": {
            "text/plain": [
              "(11272, 13)"
            ]
          },
          "metadata": {
            "tags": []
          },
          "execution_count": 7
        }
      ]
    },
    {
      "cell_type": "code",
      "metadata": {
        "id": "pBimhAI1zE1P",
        "colab_type": "code",
        "colab": {}
      },
      "source": [
        "df1 = df.copy()"
      ],
      "execution_count": 0,
      "outputs": []
    },
    {
      "cell_type": "code",
      "metadata": {
        "id": "DO2SjsTMGV2j",
        "colab_type": "code",
        "colab": {}
      },
      "source": [
        "from sklearn.feature_extraction.text import CountVectorizer\n",
        "from sklearn.model_selection import train_test_split\n",
        "from sklearn.compose import ColumnTransformer\n",
        "from sklearn import preprocessing\n",
        "from sklearn.preprocessing import OneHotEncoder\n",
        "from sklearn.feature_extraction.stop_words import ENGLISH_STOP_WORDS"
      ],
      "execution_count": 0,
      "outputs": []
    },
    {
      "cell_type": "code",
      "metadata": {
        "id": "E1oJFtwsCxl6",
        "colab_type": "code",
        "colab": {}
      },
      "source": [
        "STOPLIST = set(stopwords.words('english') + list(ENGLISH_STOP_WORDS))\n",
        "SYMBOLS = \" \".join(string.punctuation).split(\" \")"
      ],
      "execution_count": 0,
      "outputs": []
    },
    {
      "cell_type": "code",
      "metadata": {
        "id": "TvhGgCZgClwZ",
        "colab_type": "code",
        "colab": {}
      },
      "source": [
        "def tokenizetext(sample):\n",
        "    text = sample.strip().replace(\"\\n\", \" \").replace(\"\\r\", \" \")\n",
        "    text = text.lower()\n",
        "    tokens = parser(text)\n",
        "    lemmas = []\n",
        "    for tok in tokens:\n",
        "        lemmas.append(tok.lemma_.lower().strip() if tok.lemma_ != \"-PRON-\" else tok.lower_)\n",
        "    tokens = lemmas\n",
        "    tokens = [tok for tok in tokens if tok not in STOPLIST]\n",
        "    tokens = [tok for tok in tokens if tok not in SYMBOLS]\n",
        "    return tokens"
      ],
      "execution_count": 0,
      "outputs": []
    },
    {
      "cell_type": "markdown",
      "metadata": {
        "id": "34BtD7al_wfN",
        "colab_type": "text"
      },
      "source": [
        "This function is used for including each word from description into list form and also common english words, pronouns and sysmbols like dots and commas are also eliminated."
      ]
    },
    {
      "cell_type": "code",
      "metadata": {
        "id": "ueg5uF8XM57_",
        "colab_type": "code",
        "colab": {}
      },
      "source": [
        "vectorizer = CountVectorizer(tokenizer = tokenizetext, ngram_range = (1,3), min_df = 0.06)"
      ],
      "execution_count": 0,
      "outputs": []
    },
    {
      "cell_type": "code",
      "metadata": {
        "id": "xITrLOTvM58C",
        "colab_type": "code",
        "colab": {}
      },
      "source": [
        "vectorizer_features = vectorizer.fit_transform(df1['description'])"
      ],
      "execution_count": 0,
      "outputs": []
    },
    {
      "cell_type": "markdown",
      "metadata": {
        "id": "lZe8SC4PAY6q",
        "colab_type": "text"
      },
      "source": [
        "This CountVectorizer function from sklean converts the words into the vectors or features. Like one hot encoding."
      ]
    },
    {
      "cell_type": "code",
      "metadata": {
        "id": "lZubZwRSM58E",
        "colab_type": "code",
        "outputId": "a2bff55f-e66b-4a39-a695-bce4d2bf8971",
        "colab": {
          "base_uri": "https://localhost:8080/",
          "height": 34
        }
      },
      "source": [
        "vectorizer_features.shape"
      ],
      "execution_count": 14,
      "outputs": [
        {
          "output_type": "execute_result",
          "data": {
            "text/plain": [
              "(11272, 666)"
            ]
          },
          "metadata": {
            "tags": []
          },
          "execution_count": 14
        }
      ]
    },
    {
      "cell_type": "code",
      "metadata": {
        "id": "3Av9bWwiM58H",
        "colab_type": "code",
        "outputId": "eab6fac3-e7ef-4bb9-9605-c9fd488ef877",
        "colab": {
          "base_uri": "https://localhost:8080/",
          "height": 51
        }
      },
      "source": [
        "vectorizer_features"
      ],
      "execution_count": 15,
      "outputs": [
        {
          "output_type": "execute_result",
          "data": {
            "text/plain": [
              "<11272x666 sparse matrix of type '<class 'numpy.int64'>'\n",
              "\twith 991737 stored elements in Compressed Sparse Row format>"
            ]
          },
          "metadata": {
            "tags": []
          },
          "execution_count": 15
        }
      ]
    },
    {
      "cell_type": "code",
      "metadata": {
        "id": "wcfLutEgM58K",
        "colab_type": "code",
        "colab": {}
      },
      "source": [
        "vectorized_df = pd.DataFrame(vectorizer_features.todense(), columns = vectorizer.get_feature_names())\n",
        "df_vectorized = pd.concat([df1, vectorized_df], axis = 1)"
      ],
      "execution_count": 0,
      "outputs": []
    },
    {
      "cell_type": "code",
      "metadata": {
        "id": "ZJu3XeO4M58P",
        "colab_type": "code",
        "colab": {}
      },
      "source": [
        "df_vectorized.drop('description', axis = 1, inplace = True)\n",
        "df_vectorized.dropna(inplace=True)"
      ],
      "execution_count": 0,
      "outputs": []
    },
    {
      "cell_type": "code",
      "metadata": {
        "id": "BXlBFEVpM58R",
        "colab_type": "code",
        "colab": {}
      },
      "source": [
        "df_vectorized.head()"
      ],
      "execution_count": 0,
      "outputs": []
    },
    {
      "cell_type": "markdown",
      "metadata": {
        "id": "LygzKk0gLth6",
        "colab_type": "text"
      },
      "source": [
        "There are large no of coloumns. While converting to pdf its taking lot of pages."
      ]
    },
    {
      "cell_type": "code",
      "metadata": {
        "id": "MwklVM7AM58V",
        "colab_type": "code",
        "colab": {}
      },
      "source": [
        "columns_to_1_hot = ['employment_type', 'required_experience', 'required_education', 'industry', 'function']\n",
        "\n",
        "for column in columns_to_1_hot:\n",
        "    encoded = pd.get_dummies(df_vectorized[column])\n",
        "    df_vectorized = pd.concat([df_vectorized, encoded], axis = 1)"
      ],
      "execution_count": 0,
      "outputs": []
    },
    {
      "cell_type": "markdown",
      "metadata": {
        "id": "VAE1lITmA5sd",
        "colab_type": "text"
      },
      "source": [
        "Then other remaining features are converted to one hot encoding. "
      ]
    },
    {
      "cell_type": "code",
      "metadata": {
        "id": "Z2SmVaJ5M58X",
        "colab_type": "code",
        "colab": {}
      },
      "source": [
        "columns_to_1_hot += ['title', 'city', 'country_name']\n",
        "df_vectorized.drop(columns_to_1_hot, axis = 1, inplace = True)"
      ],
      "execution_count": 0,
      "outputs": []
    },
    {
      "cell_type": "markdown",
      "metadata": {
        "id": "o7TqIck5BH3w",
        "colab_type": "text"
      },
      "source": [
        "Some features like title, city and country are eliminated because\n",
        "\n",
        "---\n",
        "\n",
        "\n",
        "title = this part is covered in description. \n",
        "\n",
        "---\n",
        "city and country these are not much affecting in prediction.\n",
        "\n",
        "---\n",
        "\n"
      ]
    },
    {
      "cell_type": "code",
      "metadata": {
        "id": "0lAP52JpM58a",
        "colab_type": "code",
        "colab": {}
      },
      "source": [
        "target = df_vectorized['fraudulent']\n",
        "features = df_vectorized.drop('fraudulent', axis = 1)\n",
        "\n",
        "X_train, X_test, y_train, y_test = train_test_split(features, target, test_size = 0.1, stratify = target, random_state=42)"
      ],
      "execution_count": 0,
      "outputs": []
    },
    {
      "cell_type": "code",
      "metadata": {
        "id": "e926MmYMM58e",
        "colab_type": "code",
        "colab": {}
      },
      "source": [
        "Model_Score = []\n",
        "Model_Name = []"
      ],
      "execution_count": 0,
      "outputs": []
    },
    {
      "cell_type": "code",
      "metadata": {
        "id": "sOINnbcqM58h",
        "colab_type": "code",
        "colab": {}
      },
      "source": [
        "from sklearn.model_selection import GridSearchCV\n",
        "\n",
        "from sklearn.linear_model import LogisticRegression\n",
        "from sklearn.neighbors import KNeighborsClassifier\n",
        "from sklearn.svm import SVC\n",
        "from sklearn.ensemble import RandomForestClassifier\n",
        "from sklearn.neural_network import MLPClassifier\n",
        "\n",
        "from sklearn.metrics import accuracy_score, confusion_matrix, classification_report, roc_auc_score"
      ],
      "execution_count": 0,
      "outputs": []
    },
    {
      "cell_type": "markdown",
      "metadata": {
        "id": "_JHOIWZyBxKN",
        "colab_type": "text"
      },
      "source": [
        "**Logistic Regresssion**"
      ]
    },
    {
      "cell_type": "markdown",
      "metadata": {
        "id": "TCZdxO96Kd_r",
        "colab_type": "text"
      },
      "source": [
        "First it is performed **without tuning hyperparameters**"
      ]
    },
    {
      "cell_type": "code",
      "metadata": {
        "id": "KxOLB7PTIdZ_",
        "colab_type": "code",
        "outputId": "8e7d50ac-b027-4f07-e1b8-53c438bf7127",
        "colab": {
          "base_uri": "https://localhost:8080/",
          "height": 187
        }
      },
      "source": [
        "logmodel = LogisticRegression(max_iter = 20000)\n",
        "logmodel.fit(X_train,y_train)\n",
        "print('logreg')\n",
        "\n",
        "#Predicting on the Test Set\n",
        "predictions = logmodel.predict(X_test)\n",
        "\n",
        "from sklearn.metrics import classification_report\n",
        "print(classification_report(y_test, predictions))"
      ],
      "execution_count": 24,
      "outputs": [
        {
          "output_type": "stream",
          "text": [
            "logreg\n",
            "              precision    recall  f1-score   support\n",
            "\n",
            "           0       0.99      1.00      1.00      1103\n",
            "           1       0.89      0.64      0.74        25\n",
            "\n",
            "    accuracy                           0.99      1128\n",
            "   macro avg       0.94      0.82      0.87      1128\n",
            "weighted avg       0.99      0.99      0.99      1128\n",
            "\n"
          ],
          "name": "stdout"
        }
      ]
    },
    {
      "cell_type": "markdown",
      "metadata": {
        "id": "lTMjWhqCKpBv",
        "colab_type": "text"
      },
      "source": [
        "Then by using GridSearchCV function a 3 fold cross validation is done and also **tuned the hyperparameters**."
      ]
    },
    {
      "cell_type": "code",
      "metadata": {
        "id": "F10HN8cLM58l",
        "colab_type": "code",
        "colab": {}
      },
      "source": [
        "log_reg = LogisticRegression()\n",
        "c_values = [0.00001, 0.0001, 0.001, 0.01, 0.1, 1, 10, 100, 1000, 10000]\n",
        "penalty_options = ['l1', 'l2']\n",
        "\n",
        "param_grid = dict(C = c_values, penalty = penalty_options)"
      ],
      "execution_count": 0,
      "outputs": []
    },
    {
      "cell_type": "code",
      "metadata": {
        "id": "03UK0482M58n",
        "colab_type": "code",
        "colab": {}
      },
      "source": [
        "grid_tfidf = GridSearchCV(log_reg, param_grid = param_grid, cv = 3, scoring = 'roc_auc', n_jobs = -1, verbose=1)"
      ],
      "execution_count": 0,
      "outputs": []
    },
    {
      "cell_type": "code",
      "metadata": {
        "id": "lZXN-TtsM58t",
        "colab_type": "code",
        "outputId": "77d4ad75-83f6-493c-b78b-547be3e98e9a",
        "colab": {
          "base_uri": "https://localhost:8080/",
          "height": 340
        }
      },
      "source": [
        "grid_tfidf.fit(X_train, y_train)"
      ],
      "execution_count": 27,
      "outputs": [
        {
          "output_type": "stream",
          "text": [
            "Fitting 3 folds for each of 20 candidates, totalling 60 fits\n"
          ],
          "name": "stdout"
        },
        {
          "output_type": "stream",
          "text": [
            "[Parallel(n_jobs=-1)]: Using backend LokyBackend with 2 concurrent workers.\n",
            "[Parallel(n_jobs=-1)]: Done  46 tasks      | elapsed:   18.0s\n",
            "[Parallel(n_jobs=-1)]: Done  60 out of  60 | elapsed:   25.7s finished\n"
          ],
          "name": "stderr"
        },
        {
          "output_type": "execute_result",
          "data": {
            "text/plain": [
              "GridSearchCV(cv=3, error_score=nan,\n",
              "             estimator=LogisticRegression(C=1.0, class_weight=None, dual=False,\n",
              "                                          fit_intercept=True,\n",
              "                                          intercept_scaling=1, l1_ratio=None,\n",
              "                                          max_iter=100, multi_class='auto',\n",
              "                                          n_jobs=None, penalty='l2',\n",
              "                                          random_state=None, solver='lbfgs',\n",
              "                                          tol=0.0001, verbose=0,\n",
              "                                          warm_start=False),\n",
              "             iid='deprecated', n_jobs=-1,\n",
              "             param_grid={'C': [1e-05, 0.0001, 0.001, 0.01, 0.1, 1, 10, 100,\n",
              "                               1000, 10000],\n",
              "                         'penalty': ['l1', 'l2']},\n",
              "             pre_dispatch='2*n_jobs', refit=True, return_train_score=False,\n",
              "             scoring='roc_auc', verbose=1)"
            ]
          },
          "metadata": {
            "tags": []
          },
          "execution_count": 27
        }
      ]
    },
    {
      "cell_type": "code",
      "metadata": {
        "id": "Mzc-WBfGM585",
        "colab_type": "code",
        "colab": {}
      },
      "source": [
        "log_reg_pred = grid_tfidf.predict(X_test)"
      ],
      "execution_count": 0,
      "outputs": []
    },
    {
      "cell_type": "code",
      "metadata": {
        "id": "GLgHb7yx0C6-",
        "colab_type": "code",
        "outputId": "bdd0aa37-52f2-46fb-f4bf-801c9cb65648",
        "colab": {
          "base_uri": "https://localhost:8080/",
          "height": 187
        }
      },
      "source": [
        "print (roc_auc_score(y_test, log_reg_pred))\n",
        "print (classification_report(y_test, log_reg_pred))"
      ],
      "execution_count": 49,
      "outputs": [
        {
          "output_type": "stream",
          "text": [
            "0.7795466908431551\n",
            "              precision    recall  f1-score   support\n",
            "\n",
            "           0       0.99      1.00      0.99      1103\n",
            "           1       0.93      0.56      0.70        25\n",
            "\n",
            "    accuracy                           0.99      1128\n",
            "   macro avg       0.96      0.78      0.85      1128\n",
            "weighted avg       0.99      0.99      0.99      1128\n",
            "\n"
          ],
          "name": "stdout"
        }
      ]
    },
    {
      "cell_type": "markdown",
      "metadata": {
        "id": "QzmUeWPRB8Uc",
        "colab_type": "text"
      },
      "source": [
        "Even though data of fraudelent = 1 is less, it gives good precision and f1 score."
      ]
    },
    {
      "cell_type": "code",
      "metadata": {
        "id": "vPNpJkLNM59H",
        "colab_type": "code",
        "colab": {}
      },
      "source": [
        "Model_Name.append('Logistic_Regression')\n",
        "Model_Score.append(round(roc_auc_score(y_test, log_reg_pred), 4))"
      ],
      "execution_count": 0,
      "outputs": []
    },
    {
      "cell_type": "markdown",
      "metadata": {
        "id": "d0NgJ0vAGe2N",
        "colab_type": "text"
      },
      "source": [
        "**KNN**"
      ]
    },
    {
      "cell_type": "code",
      "metadata": {
        "id": "z49Ele54M59K",
        "colab_type": "code",
        "outputId": "7d1533d1-cefe-462b-8418-8e0447d8dbb6",
        "colab": {
          "base_uri": "https://localhost:8080/",
          "height": 34
        }
      },
      "source": [
        "knn = KNeighborsClassifier()\n",
        "k_range = list(np.arange(2, 10, 2))\n",
        "param_grid_knn = dict(n_neighbors = k_range)\n",
        "print (param_grid_knn)"
      ],
      "execution_count": 31,
      "outputs": [
        {
          "output_type": "stream",
          "text": [
            "{'n_neighbors': [2, 4, 6, 8]}\n"
          ],
          "name": "stdout"
        }
      ]
    },
    {
      "cell_type": "code",
      "metadata": {
        "id": "6um5RrSdM59M",
        "colab_type": "code",
        "colab": {}
      },
      "source": [
        "grid_knn = GridSearchCV(knn, param_grid_knn, cv = 3, scoring = 'roc_auc', n_jobs = -1, verbose = 1)"
      ],
      "execution_count": 0,
      "outputs": []
    },
    {
      "cell_type": "code",
      "metadata": {
        "id": "2w-pweOtM59O",
        "colab_type": "code",
        "outputId": "e6e40215-11a4-4cf3-cd99-cc90d0a3b5fd",
        "colab": {
          "base_uri": "https://localhost:8080/",
          "height": 238
        }
      },
      "source": [
        "grid_knn.fit(X_train, y_train)"
      ],
      "execution_count": 33,
      "outputs": [
        {
          "output_type": "stream",
          "text": [
            "Fitting 3 folds for each of 4 candidates, totalling 12 fits\n"
          ],
          "name": "stdout"
        },
        {
          "output_type": "stream",
          "text": [
            "[Parallel(n_jobs=-1)]: Using backend LokyBackend with 2 concurrent workers.\n",
            "[Parallel(n_jobs=-1)]: Done  12 out of  12 | elapsed:  4.4min finished\n"
          ],
          "name": "stderr"
        },
        {
          "output_type": "execute_result",
          "data": {
            "text/plain": [
              "GridSearchCV(cv=3, error_score=nan,\n",
              "             estimator=KNeighborsClassifier(algorithm='auto', leaf_size=30,\n",
              "                                            metric='minkowski',\n",
              "                                            metric_params=None, n_jobs=None,\n",
              "                                            n_neighbors=5, p=2,\n",
              "                                            weights='uniform'),\n",
              "             iid='deprecated', n_jobs=-1,\n",
              "             param_grid={'n_neighbors': [2, 4, 6, 8]}, pre_dispatch='2*n_jobs',\n",
              "             refit=True, return_train_score=False, scoring='roc_auc',\n",
              "             verbose=1)"
            ]
          },
          "metadata": {
            "tags": []
          },
          "execution_count": 33
        }
      ]
    },
    {
      "cell_type": "code",
      "metadata": {
        "id": "xlGwTunpM59R",
        "colab_type": "code",
        "outputId": "3e8c4ae6-c9a0-4a05-8be6-97abb7f7c213",
        "colab": {
          "base_uri": "https://localhost:8080/",
          "height": 34
        }
      },
      "source": [
        "grid_knn.best_score_"
      ],
      "execution_count": 34,
      "outputs": [
        {
          "output_type": "execute_result",
          "data": {
            "text/plain": [
              "0.9331061452522008"
            ]
          },
          "metadata": {
            "tags": []
          },
          "execution_count": 34
        }
      ]
    },
    {
      "cell_type": "code",
      "metadata": {
        "id": "VjGgzOa2M59T",
        "colab_type": "code",
        "outputId": "dad2266d-2415-4490-e3f5-8cedaa773793",
        "colab": {
          "base_uri": "https://localhost:8080/",
          "height": 34
        }
      },
      "source": [
        "grid_knn.best_params_"
      ],
      "execution_count": 35,
      "outputs": [
        {
          "output_type": "execute_result",
          "data": {
            "text/plain": [
              "{'n_neighbors': 8}"
            ]
          },
          "metadata": {
            "tags": []
          },
          "execution_count": 35
        }
      ]
    },
    {
      "cell_type": "code",
      "metadata": {
        "id": "42kGKKiGM59Z",
        "colab_type": "code",
        "colab": {}
      },
      "source": [
        "knn_pred = grid_knn.predict(X_test)"
      ],
      "execution_count": 0,
      "outputs": []
    },
    {
      "cell_type": "code",
      "metadata": {
        "id": "otwAbSJTM59e",
        "colab_type": "code",
        "outputId": "ea5f59d4-6ba7-4eaa-a966-ed00b4f300d0",
        "colab": {
          "base_uri": "https://localhost:8080/",
          "height": 187
        }
      },
      "source": [
        "print (roc_auc_score(y_test, knn_pred))\n",
        "print (classification_report(y_test, knn_pred))"
      ],
      "execution_count": 37,
      "outputs": [
        {
          "output_type": "stream",
          "text": [
            "0.72\n",
            "              precision    recall  f1-score   support\n",
            "\n",
            "           0       0.99      1.00      0.99      1103\n",
            "           1       1.00      0.44      0.61        25\n",
            "\n",
            "    accuracy                           0.99      1128\n",
            "   macro avg       0.99      0.72      0.80      1128\n",
            "weighted avg       0.99      0.99      0.99      1128\n",
            "\n"
          ],
          "name": "stdout"
        }
      ]
    },
    {
      "cell_type": "code",
      "metadata": {
        "id": "YdOrkhMwM59l",
        "colab_type": "code",
        "colab": {}
      },
      "source": [
        "Model_Name.append('KNN')\n",
        "Model_Score.append(round(roc_auc_score(y_test, knn_pred), 4))"
      ],
      "execution_count": 0,
      "outputs": []
    },
    {
      "cell_type": "markdown",
      "metadata": {
        "id": "B8ZjkyNeGk2o",
        "colab_type": "text"
      },
      "source": [
        "**SVC**"
      ]
    },
    {
      "cell_type": "code",
      "metadata": {
        "id": "RPr0o2LVM59o",
        "colab_type": "code",
        "outputId": "55461470-3417-4179-9958-985854e2f4c0",
        "colab": {
          "base_uri": "https://localhost:8080/",
          "height": 34
        }
      },
      "source": [
        "svc = SVC()\n",
        "kernel = ['linear', 'rbf']\n",
        "param_grid_knn = dict(kernel = kernel)\n",
        "print (param_grid_knn)"
      ],
      "execution_count": 39,
      "outputs": [
        {
          "output_type": "stream",
          "text": [
            "{'kernel': ['linear', 'rbf']}\n"
          ],
          "name": "stdout"
        }
      ]
    },
    {
      "cell_type": "code",
      "metadata": {
        "id": "8hb1iRw4M59t",
        "colab_type": "code",
        "colab": {}
      },
      "source": [
        "grid_svc = GridSearchCV(svc, param_grid_knn, cv = 3, scoring = 'roc_auc', n_jobs = -1, verbose = 2)"
      ],
      "execution_count": 0,
      "outputs": []
    },
    {
      "cell_type": "code",
      "metadata": {
        "id": "KXFYUjlMM59w",
        "colab_type": "code",
        "outputId": "8805213b-2a62-4682-ba63-80c5c9ed2611",
        "colab": {
          "base_uri": "https://localhost:8080/",
          "height": 255
        }
      },
      "source": [
        "grid_svc.fit(X_train, y_train)"
      ],
      "execution_count": 41,
      "outputs": [
        {
          "output_type": "stream",
          "text": [
            "Fitting 3 folds for each of 2 candidates, totalling 6 fits\n"
          ],
          "name": "stdout"
        },
        {
          "output_type": "stream",
          "text": [
            "[Parallel(n_jobs=-1)]: Using backend LokyBackend with 2 concurrent workers.\n",
            "[Parallel(n_jobs=-1)]: Done   6 out of   6 | elapsed:   31.9s finished\n"
          ],
          "name": "stderr"
        },
        {
          "output_type": "execute_result",
          "data": {
            "text/plain": [
              "GridSearchCV(cv=3, error_score=nan,\n",
              "             estimator=SVC(C=1.0, break_ties=False, cache_size=200,\n",
              "                           class_weight=None, coef0=0.0,\n",
              "                           decision_function_shape='ovr', degree=3,\n",
              "                           gamma='scale', kernel='rbf', max_iter=-1,\n",
              "                           probability=False, random_state=None, shrinking=True,\n",
              "                           tol=0.001, verbose=False),\n",
              "             iid='deprecated', n_jobs=-1,\n",
              "             param_grid={'kernel': ['linear', 'rbf']}, pre_dispatch='2*n_jobs',\n",
              "             refit=True, return_train_score=False, scoring='roc_auc',\n",
              "             verbose=2)"
            ]
          },
          "metadata": {
            "tags": []
          },
          "execution_count": 41
        }
      ]
    },
    {
      "cell_type": "code",
      "metadata": {
        "id": "2bn5Nv_TM590",
        "colab_type": "code",
        "outputId": "dd20aabd-0188-4d3a-a189-45b2d7c14278",
        "colab": {
          "base_uri": "https://localhost:8080/",
          "height": 34
        }
      },
      "source": [
        "grid_svc.best_score_"
      ],
      "execution_count": 42,
      "outputs": [
        {
          "output_type": "execute_result",
          "data": {
            "text/plain": [
              "0.9739281333637583"
            ]
          },
          "metadata": {
            "tags": []
          },
          "execution_count": 42
        }
      ]
    },
    {
      "cell_type": "code",
      "metadata": {
        "id": "a_HPnR8HM593",
        "colab_type": "code",
        "outputId": "9494020f-0e4a-4734-fe5d-faf1f5397933",
        "colab": {
          "base_uri": "https://localhost:8080/",
          "height": 34
        }
      },
      "source": [
        "grid_svc.best_params_"
      ],
      "execution_count": 43,
      "outputs": [
        {
          "output_type": "execute_result",
          "data": {
            "text/plain": [
              "{'kernel': 'linear'}"
            ]
          },
          "metadata": {
            "tags": []
          },
          "execution_count": 43
        }
      ]
    },
    {
      "cell_type": "code",
      "metadata": {
        "id": "s_D8r68XM596",
        "colab_type": "code",
        "colab": {}
      },
      "source": [
        "svc_pred = grid_svc.predict(X_test)"
      ],
      "execution_count": 0,
      "outputs": []
    },
    {
      "cell_type": "code",
      "metadata": {
        "id": "uy8qqCzWM598",
        "colab_type": "code",
        "outputId": "48047f0f-e5e3-4c20-b278-44f97147149b",
        "colab": {
          "base_uri": "https://localhost:8080/",
          "height": 187
        }
      },
      "source": [
        "print (roc_auc_score(y_test, svc_pred))\n",
        "print (classification_report(y_test, svc_pred))"
      ],
      "execution_count": 45,
      "outputs": [
        {
          "output_type": "stream",
          "text": [
            "0.8195466908431551\n",
            "              precision    recall  f1-score   support\n",
            "\n",
            "           0       0.99      1.00      1.00      1103\n",
            "           1       0.94      0.64      0.76        25\n",
            "\n",
            "    accuracy                           0.99      1128\n",
            "   macro avg       0.97      0.82      0.88      1128\n",
            "weighted avg       0.99      0.99      0.99      1128\n",
            "\n"
          ],
          "name": "stdout"
        }
      ]
    },
    {
      "cell_type": "code",
      "metadata": {
        "id": "YqOOSfFsM59-",
        "colab_type": "code",
        "colab": {}
      },
      "source": [
        "Model_Name.append('SVC')\n",
        "Model_Score.append(round(roc_auc_score(y_test, svc_pred), 4))"
      ],
      "execution_count": 0,
      "outputs": []
    },
    {
      "cell_type": "markdown",
      "metadata": {
        "id": "HfXSYGoeGvca",
        "colab_type": "text"
      },
      "source": [
        "**MLP Classifier**"
      ]
    },
    {
      "cell_type": "code",
      "metadata": {
        "id": "lrmp0GE5M5-P",
        "colab_type": "code",
        "colab": {}
      },
      "source": [
        "mlp = MLPClassifier(solver = 'sgd', activation = 'relu', hidden_layer_sizes = (100, 50, 30), max_iter = 1000)"
      ],
      "execution_count": 0,
      "outputs": []
    },
    {
      "cell_type": "code",
      "metadata": {
        "id": "G9rwoIPQM5-Q",
        "colab_type": "code",
        "outputId": "ff79929c-54ab-4741-86a4-e34fa1da5486",
        "colab": {
          "base_uri": "https://localhost:8080/",
          "height": 153
        }
      },
      "source": [
        "mlp.fit(X_train, y_train)"
      ],
      "execution_count": 48,
      "outputs": [
        {
          "output_type": "execute_result",
          "data": {
            "text/plain": [
              "MLPClassifier(activation='relu', alpha=0.0001, batch_size='auto', beta_1=0.9,\n",
              "              beta_2=0.999, early_stopping=False, epsilon=1e-08,\n",
              "              hidden_layer_sizes=(100, 50, 30), learning_rate='constant',\n",
              "              learning_rate_init=0.001, max_fun=15000, max_iter=1000,\n",
              "              momentum=0.9, n_iter_no_change=10, nesterovs_momentum=True,\n",
              "              power_t=0.5, random_state=None, shuffle=True, solver='sgd',\n",
              "              tol=0.0001, validation_fraction=0.1, verbose=False,\n",
              "              warm_start=False)"
            ]
          },
          "metadata": {
            "tags": []
          },
          "execution_count": 48
        }
      ]
    },
    {
      "cell_type": "code",
      "metadata": {
        "id": "zrhHCZuQM5-S",
        "colab_type": "code",
        "outputId": "86c5850e-ea1e-47f3-989d-033108263e71",
        "colab": {
          "base_uri": "https://localhost:8080/",
          "height": 187
        }
      },
      "source": [
        "mlp_pred = mlp.predict(X_test)\n",
        "print (roc_auc_score(y_test, mlp_pred))\n",
        "print (classification_report(y_test, mlp_pred))"
      ],
      "execution_count": 51,
      "outputs": [
        {
          "output_type": "stream",
          "text": [
            "0.78\n",
            "              precision    recall  f1-score   support\n",
            "\n",
            "           0       0.99      1.00      1.00      1103\n",
            "           1       1.00      0.56      0.72        25\n",
            "\n",
            "    accuracy                           0.99      1128\n",
            "   macro avg       1.00      0.78      0.86      1128\n",
            "weighted avg       0.99      0.99      0.99      1128\n",
            "\n"
          ],
          "name": "stdout"
        }
      ]
    },
    {
      "cell_type": "code",
      "metadata": {
        "id": "wO49B4WMM5-Y",
        "colab_type": "code",
        "colab": {}
      },
      "source": [
        "Model_Name.append('MLP-NN (sgd)')\n",
        "Model_Score.append(round(roc_auc_score(y_test, mlp_pred), 4))"
      ],
      "execution_count": 0,
      "outputs": []
    },
    {
      "cell_type": "markdown",
      "metadata": {
        "id": "MGN1RWwyG1zn",
        "colab_type": "text"
      },
      "source": [
        "**Model Comparison**"
      ]
    },
    {
      "cell_type": "code",
      "metadata": {
        "id": "69ybToPwM5-p",
        "colab_type": "code",
        "outputId": "64ae561a-ecc9-4299-8cc5-33e2b4eb3f02",
        "colab": {
          "base_uri": "https://localhost:8080/",
          "height": 446
        }
      },
      "source": [
        "plt.figure(figsize = (15, 10))\n",
        "plt.plot(Model_Name,Model_Score, marker = 'o', color = 'red')\n",
        "plt.title('Comparison of different models')\n",
        "plt.xlabel('Models')\n",
        "plt.ylabel('ROC-AUC score')\n",
        "plt.ylim(0.5, 1.0)\n",
        "plt.grid()\n",
        "plt.savefig('Model_compare.jpeg')\n",
        "plt.show()"
      ],
      "execution_count": 59,
      "outputs": [
        {
          "output_type": "display_data",
          "data": {
            "image/png": "[encoded data removed]",
            "text/plain": [
              "<Figure size 1080x720 with 1 Axes>"
            ]
          },
          "metadata": {
            "tags": [],
            "needs_background": "light"
          }
        }
      ]
    },
    {
      "cell_type": "code",
      "metadata": {
        "id": "gChOumoIM5-s",
        "colab_type": "code",
        "colab": {}
      },
      "source": [
        ""
      ],
      "execution_count": 0,
      "outputs": []
    }
  ]
}